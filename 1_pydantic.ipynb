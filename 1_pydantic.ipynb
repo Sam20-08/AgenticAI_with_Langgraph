{
 "cells": [
  {
   "cell_type": "markdown",
   "id": "a27e7dbf",
   "metadata": {},
   "source": [
    "# Pydantic"
   ]
  },
  {
   "cell_type": "code",
   "execution_count": 1,
   "id": "a69a7862",
   "metadata": {},
   "outputs": [],
   "source": [
    "from pydantic import BaseModel"
   ]
  },
  {
   "cell_type": "code",
   "execution_count": 13,
   "id": "fa11f075",
   "metadata": {},
   "outputs": [
    {
     "name": "stdout",
     "output_type": "stream",
     "text": [
      "person(name='sam', age=20, city='Chennai')\n"
     ]
    }
   ],
   "source": [
    "from dataclasses import dataclass\n",
    "\n",
    "@dataclass\n",
    "class person():\n",
    "  name:str\n",
    "  age:int\n",
    "  city:str\n",
    "\n",
    "Person=person(name=\"sam\",age=20,city=\"Chennai\")\n",
    "print(Person)"
   ]
  },
  {
   "cell_type": "code",
   "execution_count": 15,
   "id": "8b78c00f",
   "metadata": {},
   "outputs": [
    {
     "name": "stdout",
     "output_type": "stream",
     "text": [
      "person(name='sam', age=20, city=20)\n"
     ]
    }
   ],
   "source": [
    "Person_sample=person(name=\"sam\",age=20,city=20)\n",
    "print(Person_sample)"
   ]
  },
  {
   "cell_type": "code",
   "execution_count": 9,
   "id": "4081971c",
   "metadata": {},
   "outputs": [],
   "source": [
    "class person1(BaseModel):\n",
    "  name:str\n",
    "  age:int\n",
    "  city:str"
   ]
  },
  {
   "cell_type": "code",
   "execution_count": 10,
   "id": "880bf050",
   "metadata": {},
   "outputs": [
    {
     "name": "stdout",
     "output_type": "stream",
     "text": [
      "name='sam' age=20 city='Chennai'\n"
     ]
    }
   ],
   "source": [
    "Person=person1(name=\"sam\",age=20,city=\"Chennai\")\n",
    "print(Person)"
   ]
  },
  {
   "cell_type": "code",
   "execution_count": 16,
   "id": "64d479d9",
   "metadata": {},
   "outputs": [],
   "source": [
    "# Person2=person1(name=\"sam\",age=20,city=20)  causes addres as data type is validated and defined already "
   ]
  },
  {
   "cell_type": "markdown",
   "id": "aaa2b8ee",
   "metadata": {},
   "source": [
    "### Optional fields"
   ]
  },
  {
   "cell_type": "code",
   "execution_count": 19,
   "id": "5b7ebafd",
   "metadata": {},
   "outputs": [],
   "source": [
    "from typing import Optional\n",
    "\n",
    "class Employee(BaseModel):\n",
    "  id:int\n",
    "  name:str\n",
    "  department:str\n",
    "  salary:Optional[float]=None\n",
    "  is_active:Optional[bool]=True"
   ]
  },
  {
   "cell_type": "code",
   "execution_count": 20,
   "id": "766a8ba6",
   "metadata": {},
   "outputs": [
    {
     "name": "stdout",
     "output_type": "stream",
     "text": [
      "id=1 name='kumar' department='CSE' salary=None is_active=True\n"
     ]
    }
   ],
   "source": [
    "emp1=Employee(id=1,name=\"kumar\",department=\"CSE\")\n",
    "print(emp1)"
   ]
  },
  {
   "cell_type": "code",
   "execution_count": 21,
   "id": "a841eda4",
   "metadata": {},
   "outputs": [
    {
     "name": "stdout",
     "output_type": "stream",
     "text": [
      "id=1 name='kumar' department='CSE' salary=2000.0 is_active=False\n"
     ]
    }
   ],
   "source": [
    "emp2=Employee(id=1,name=\"kumar\",department=\"CSE\",salary=2000.0,is_active=False)\n",
    "print(emp2)"
   ]
  },
  {
   "cell_type": "code",
   "execution_count": 22,
   "id": "92ae9c8b",
   "metadata": {},
   "outputs": [],
   "source": [
    "class Classroom(BaseModel):\n",
    "  students:list[str]\n",
    "  id:list[int]\n",
    "  maximum:int"
   ]
  },
  {
   "cell_type": "code",
   "execution_count": 24,
   "id": "be97ed6c",
   "metadata": {},
   "outputs": [
    {
     "name": "stdout",
     "output_type": "stream",
     "text": [
      "students=['Sam', 'Akash', 'Kumar', 'Philip'] id=[1, 2, 3, 4] maximum=30\n"
     ]
    }
   ],
   "source": [
    "c1=Classroom(students=[\"Sam\",\"Akash\",\"Kumar\",\"Philip\"],id=[1,2,3,4],maximum=30)\n",
    "print(c1)"
   ]
  },
  {
   "cell_type": "code",
   "execution_count": 25,
   "id": "b1f89e25",
   "metadata": {},
   "outputs": [
    {
     "name": "stdout",
     "output_type": "stream",
     "text": [
      "1 validation error for Classroom\n",
      "students.1\n",
      "  Input should be a valid string [type=string_type, input_value=23, input_type=int]\n",
      "    For further information visit https://errors.pydantic.dev/2.11/v/string_type\n"
     ]
    }
   ],
   "source": [
    "try:\n",
    "  c2=Classroom(students=[\"Sam\",23],id=[1,2,3,4],maximum=30)\n",
    "except ValueError as e:\n",
    "  print(e)"
   ]
  },
  {
   "cell_type": "code",
   "execution_count": 29,
   "id": "3b5aabed",
   "metadata": {},
   "outputs": [
    {
     "name": "stdout",
     "output_type": "stream",
     "text": [
      "customer_id=1 name='sam' address=Address(street='Pillayar kovil street', city='Chennai', zipcode=1234)\n"
     ]
    }
   ],
   "source": [
    "class Address(BaseModel):\n",
    "  street:str\n",
    "  city:str\n",
    "  zipcode:int\n",
    "\n",
    "class Customer(BaseModel):\n",
    "  customer_id:int\n",
    "  name:str\n",
    "  address:Address\n",
    "\n",
    "customer1=Customer(\n",
    "  customer_id=1,\n",
    "  name=\"sam\",\n",
    "  address={\"street\":\"Pillayar kovil street\",\"city\":\"Chennai\",\"zipcode\":1234}\n",
    ")\n",
    "\n",
    "print(customer1)"
   ]
  },
  {
   "cell_type": "markdown",
   "id": "074a4af7",
   "metadata": {},
   "source": [
    "### Pydantic Fields - Alias, Default values, Validation rules"
   ]
  },
  {
   "cell_type": "code",
   "execution_count": 37,
   "id": "f109e913",
   "metadata": {},
   "outputs": [],
   "source": [
    "from pydantic import Field\n",
    "\n",
    "class Item(BaseModel):\n",
    "  name:str\n",
    "  age:int=Field(le=100)\n",
    "  price:float=Field(gt=0,le=1000)\n",
    "  quantity:int=Field(ge=0)\n"
   ]
  },
  {
   "cell_type": "code",
   "execution_count": 39,
   "id": "a2ba53b3",
   "metadata": {},
   "outputs": [
    {
     "name": "stdout",
     "output_type": "stream",
     "text": [
      "name='book' age=2 price=400.0 quantity=2\n"
     ]
    }
   ],
   "source": [
    "item1=Item(name=\"book\",age=2,price=400.0,quantity=2)\n",
    "print(item1)"
   ]
  },
  {
   "cell_type": "code",
   "execution_count": 40,
   "id": "3159c780",
   "metadata": {},
   "outputs": [],
   "source": [
    "class User(BaseModel):\n",
    "  username:str=Field(...,description=\"username should be unique\")\n",
    "  age:int=Field(default=18,description=\"user age is set to be 18 by default\")\n",
    "  email:str=Field(default_factory=lambda: \"user@gmail.com\",description=\"Default email address\")"
   ]
  },
  {
   "cell_type": "code",
   "execution_count": 41,
   "id": "c7de4857",
   "metadata": {},
   "outputs": [
    {
     "name": "stdout",
     "output_type": "stream",
     "text": [
      "username='sam' age=18 email='user@gmail.com'\n"
     ]
    }
   ],
   "source": [
    "user1=User(\n",
    "  username=\"sam\"\n",
    ")\n",
    "\n",
    "print(user1)"
   ]
  },
  {
   "cell_type": "code",
   "execution_count": 42,
   "id": "4f0111d5",
   "metadata": {},
   "outputs": [
    {
     "name": "stdout",
     "output_type": "stream",
     "text": [
      "username='akash' age=30 email='akash@gmail.com'\n"
     ]
    }
   ],
   "source": [
    "user2=User(username=\"akash\",age=30,email=\"akash@gmail.com\")\n",
    "print(user2)"
   ]
  },
  {
   "cell_type": "code",
   "execution_count": 46,
   "id": "7a373a2d",
   "metadata": {},
   "outputs": [
    {
     "name": "stdout",
     "output_type": "stream",
     "text": [
      "{'properties': {'username': {'description': 'username should be unique', 'title': 'Username', 'type': 'string'}, 'age': {'default': 18, 'description': 'user age is set to be 18 by default', 'title': 'Age', 'type': 'integer'}, 'email': {'description': 'Default email address', 'title': 'Email', 'type': 'string'}}, 'required': ['username'], 'title': 'User', 'type': 'object'}\n"
     ]
    }
   ],
   "source": [
    "print(User.model_json_schema())"
   ]
  },
  {
   "cell_type": "code",
   "execution_count": null,
   "id": "7423840b",
   "metadata": {},
   "outputs": [],
   "source": []
  }
 ],
 "metadata": {
  "kernelspec": {
   "display_name": ".agenticai",
   "language": "python",
   "name": "python3"
  },
  "language_info": {
   "codemirror_mode": {
    "name": "ipython",
    "version": 3
   },
   "file_extension": ".py",
   "mimetype": "text/x-python",
   "name": "python",
   "nbconvert_exporter": "python",
   "pygments_lexer": "ipython3",
   "version": "3.12.4"
  }
 },
 "nbformat": 4,
 "nbformat_minor": 5
}
