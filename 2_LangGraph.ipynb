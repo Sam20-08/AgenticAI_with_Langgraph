{
 "cells": [
  {
   "cell_type": "code",
   "execution_count": 1,
   "id": "edb1d17c",
   "metadata": {},
   "outputs": [],
   "source": [
    "from typing import TypedDict\n",
    "from langgraph.graph import StateGraph,START,END"
   ]
  },
  {
   "cell_type": "code",
   "execution_count": 2,
   "id": "e0e290d8",
   "metadata": {},
   "outputs": [],
   "source": [
    "class Agentstate(TypedDict):\n",
    "  message:str"
   ]
  },
  {
   "cell_type": "code",
   "execution_count": 3,
   "id": "7968cb7c",
   "metadata": {},
   "outputs": [],
   "source": [
    "def play(state:Agentstate)->Agentstate:\n",
    "  print(\"I am playing\")\n",
    "  state[\"message\"]=state['message']+\"I aṁplanning to play\"\n",
    "  return state"
   ]
  },
  {
   "cell_type": "code",
   "execution_count": 4,
   "id": "48cdb529",
   "metadata": {},
   "outputs": [],
   "source": [
    "def cricket(state:Agentstate)->Agentstate:\n",
    "  print(\"Cricket node has been called\")\n",
    "  state['message']=state['message']+ \"Cricket\"\n",
    "  return state"
   ]
  },
  {
   "cell_type": "code",
   "execution_count": 5,
   "id": "4fc43948",
   "metadata": {},
   "outputs": [],
   "source": [
    "def badmitton(state:Agentstate)->Agentstate:\n",
    "  print(\"badmitton node has been called\")\n",
    "  state['message']=state['message']+ \"badmitton\"\n",
    "  return state"
   ]
  },
  {
   "cell_type": "code",
   "execution_count": 6,
   "id": "5c16e339",
   "metadata": {},
   "outputs": [],
   "source": [
    "import random\n",
    "from typing import Literal\n",
    "\n",
    "def random_play(state:Agentstate)->Literal['cricket','badmitton']:\n",
    "  if random.random()>0.5:\n",
    "    return 'cricket'\n",
    "  else:\n",
    "    return 'badmitton'"
   ]
  },
  {
   "cell_type": "code",
   "execution_count": 7,
   "id": "e0e4cd97",
   "metadata": {},
   "outputs": [],
   "source": [
    "graph=StateGraph(Agentstate)"
   ]
  },
  {
   "cell_type": "code",
   "execution_count": 8,
   "id": "dfdd38e5",
   "metadata": {},
   "outputs": [],
   "source": [
    "graph.add_node(\"play_node\",play)\n",
    "graph.add_node(\"cricket\",cricket)\n",
    "graph.add_node(\"badmitton\",badmitton)\n",
    "\n",
    "graph.add_edge(START,\"play_node\")\n",
    "graph.add_conditional_edges(\"play_node\",random_play)\n",
    "graph.add_edge(\"cricket\",END)\n",
    "graph.add_edge(\"badmitton\",END)\n",
    "\n",
    "app=graph.compile()"
   ]
  },
  {
   "cell_type": "code",
   "execution_count": 16,
   "id": "279e7e6a",
   "metadata": {},
   "outputs": [
    {
     "data": {
      "image/png": "[encoded data removed]",
      "text/plain": [
       "<IPython.core.display.Image object>"
      ]
     },
     "metadata": {},
     "output_type": "display_data"
    }
   ],
   "source": [
    "from IPython.display import Image,display\n",
    "import graph_builder\n",
    "\n",
    "display(Image(app.get_graph().draw_mermaid_png()))"
   ]
  },
  {
   "cell_type": "code",
   "execution_count": 18,
   "id": "9c700daa",
   "metadata": {},
   "outputs": [
    {
     "name": "stdout",
     "output_type": "stream",
     "text": [
      "I am playing\n",
      "Cricket node has been called\n"
     ]
    },
    {
     "data": {
      "text/plain": [
       "{'message': 'Hello I aṁplanning to playCricket'}"
      ]
     },
     "execution_count": 18,
     "metadata": {},
     "output_type": "execute_result"
    }
   ],
   "source": [
    "app.invoke({\"message\":\"Hello \"})"
   ]
  },
  {
   "cell_type": "code",
   "execution_count": null,
   "id": "3aeafa29",
   "metadata": {},
   "outputs": [],
   "source": []
  }
 ],
 "metadata": {
  "kernelspec": {
   "display_name": ".agenticai",
   "language": "python",
   "name": "python3"
  },
  "language_info": {
   "codemirror_mode": {
    "name": "ipython",
    "version": 3
   },
   "file_extension": ".py",
   "mimetype": "text/x-python",
   "name": "python",
   "nbconvert_exporter": "python",
   "pygments_lexer": "ipython3",
   "version": "3.12.4"
  }
 },
 "nbformat": 4,
 "nbformat_minor": 5
}
