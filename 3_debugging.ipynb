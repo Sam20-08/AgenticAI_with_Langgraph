{
 "cells": [
  {
   "cell_type": "code",
   "execution_count": 32,
   "id": "733222fe",
   "metadata": {},
   "outputs": [
    {
     "data": {
      "text/plain": [
       "True"
      ]
     },
     "execution_count": 32,
     "metadata": {},
     "output_type": "execute_result"
    }
   ],
   "source": [
    "from typing import TypedDict\n",
    "from typing import Annotated \n",
    "from langgraph.graph import START,END\n",
    "from langgraph.graph.message import add_messages\n",
    "from langgraph.graph.state import StateGraph\n",
    "from langchain_core.tools import tool\n",
    "from langchain_core.messages import BaseMessage\n",
    "from langgraph.prebuilt import tools_condition\n",
    "\n",
    "from langgraph.prebuilt import ToolNode\n",
    "import os\n",
    "from dotenv import load_dotenv\n",
    "load_dotenv()"
   ]
  },
  {
   "cell_type": "code",
   "execution_count": 15,
   "id": "f814a670",
   "metadata": {},
   "outputs": [],
   "source": [
    "os.environ[\"GROQ_API_KEY\"]=os.getenv(\"GROQ_API_KEY\")\n",
    "os.environ[\"LANGSMITH_API_KEY\"]=os.getenv(\"LANGCHAIN_API_KEY\")\n",
    "os.environ[\"LANGSMITH_TRACING\"]=\"true\""
   ]
  },
  {
   "cell_type": "code",
   "execution_count": 17,
   "id": "2bb7b68e",
   "metadata": {},
   "outputs": [],
   "source": [
    "from langchain_groq import ChatGroq\n",
    "\n",
    "llm = ChatGroq(\n",
    "    model=\"deepseek-r1-distill-llama-70b\",\n",
    "    temperature=0,\n",
    "    max_tokens=None,\n",
    "    reasoning_format=\"parsed\",\n",
    "    timeout=None,\n",
    "    max_retries=2,\n",
    ")"
   ]
  },
  {
   "cell_type": "code",
   "execution_count": 25,
   "id": "6b20e74f",
   "metadata": {},
   "outputs": [],
   "source": [
    "class Agentstate(TypedDict):\n",
    "  messages: Annotated[list[BaseMessage],add_messages]"
   ]
  },
  {
   "cell_type": "code",
   "execution_count": 28,
   "id": "ff6e0cf9",
   "metadata": {},
   "outputs": [],
   "source": [
    "\n",
    "from langchain_core.tools import tool\n",
    "@tool\n",
    "def add_numbers(a: int, b: int) -> int:\n",
    "    \"\"\"Add two numbers.\"\"\"\n",
    "    return a + b\n",
    "\n",
    "tools = [add_numbers]"
   ]
  },
  {
   "cell_type": "code",
   "execution_count": 29,
   "id": "31e560d7",
   "metadata": {},
   "outputs": [],
   "source": [
    "llm_with_tools = llm.bind_tools(tools)"
   ]
  },
  {
   "cell_type": "code",
   "execution_count": 26,
   "id": "42dac5e6",
   "metadata": {},
   "outputs": [],
   "source": [
    "def chat(state:Agentstate)->Agentstate:\n",
    "  return {\"messages\":[llm_with_tools.invoke(state[\"messages\"])]}"
   ]
  },
  {
   "cell_type": "code",
   "execution_count": 36,
   "id": "939c1443",
   "metadata": {},
   "outputs": [],
   "source": [
    "graph=StateGraph(Agentstate)\n",
    "graph.add_node(\"chat\",chat)\n",
    "graph.add_node(\"tools\",ToolNode([add_numbers]))\n",
    "\n",
    "graph.add_conditional_edges(\n",
    "    \"chat\",\n",
    "    tools_condition,\n",
    ")\n",
    "\n",
    "graph.add_edge(START,\"chat\")\n",
    "graph.add_edge(\"tools\",END)\n",
    "agent=graph.compile()\n"
   ]
  },
  {
   "cell_type": "code",
   "execution_count": 37,
   "id": "28f2f241",
   "metadata": {},
   "outputs": [
    {
     "data": {
      "image/png": "[encoded data removed]",
      "text/plain": [
       "<IPython.core.display.Image object>"
      ]
     },
     "metadata": {},
     "output_type": "display_data"
    }
   ],
   "source": [
    "from IPython.display import Image,display\n",
    "display(Image(agent.get_graph().draw_mermaid_png()))"
   ]
  },
  {
   "cell_type": "code",
   "execution_count": 38,
   "id": "c7f66225",
   "metadata": {},
   "outputs": [],
   "source": [
    "response=agent.invoke({\"messages\":\"What is agentic AI\"})"
   ]
  },
  {
   "cell_type": "code",
   "execution_count": null,
   "id": "7ae2facc",
   "metadata": {},
   "outputs": [
    {
     "data": {
      "text/plain": [
       "'Agentic AI refers to artificial intelligence systems designed to act autonomously, capable of making decisions and taking actions without direct human intervention. These systems typically possess advanced functionalities in perception, reasoning, and execution, enabling them to operate independently in dynamic environments. They are distinguished by their ability to function beyond predefined rules, adapting and learning to achieve goals proactively. Applications range from robotics and personal assistants to self-driving cars, emphasizing autonomy and self-sufficiency. Key considerations include ensuring alignment with human values, safety, and accountability for decision-making outcomes.'"
      ]
     },
     "execution_count": 41,
     "metadata": {},
     "output_type": "execute_result"
    }
   ],
   "source": [
    "response[\"messages\"][-1].content"
   ]
  },
  {
   "cell_type": "code",
   "execution_count": 42,
   "id": "703141e3",
   "metadata": {},
   "outputs": [
    {
     "data": {
      "text/plain": [
       "'4'"
      ]
     },
     "execution_count": 42,
     "metadata": {},
     "output_type": "execute_result"
    }
   ],
   "source": [
    "response=agent.invoke({\"messages\":\"What is 2+2?\"})\n",
    "response[\"messages\"][-1].content"
   ]
  },
  {
   "cell_type": "code",
   "execution_count": null,
   "id": "0d8370eb",
   "metadata": {},
   "outputs": [],
   "source": []
  }
 ],
 "metadata": {
  "kernelspec": {
   "display_name": "Advanced_Langgraph_MCP",
   "language": "python",
   "name": "python3"
  },
  "language_info": {
   "codemirror_mode": {
    "name": "ipython",
    "version": 3
   },
   "file_extension": ".py",
   "mimetype": "text/x-python",
   "name": "python",
   "nbconvert_exporter": "python",
   "pygments_lexer": "ipython3",
   "version": "3.12.4"
  }
 },
 "nbformat": 4,
 "nbformat_minor": 5
}
